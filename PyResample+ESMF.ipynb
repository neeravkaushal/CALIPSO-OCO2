{
 "cells": [
  {
   "cell_type": "code",
   "execution_count": 8,
   "metadata": {},
   "outputs": [
    {
     "name": "stdout",
     "output_type": "stream",
     "text": [
      "Using matplotlib backend: Qt5Agg\n"
     ]
    }
   ],
   "source": [
    "%matplotlib\n",
    "from cartopy import crs, feature\n",
    "import ESMF\n",
    "from matplotlib import cm, gridspec, rcParams\n",
    "import matplotlib.pyplot as plt\n",
    "import numpy as np\n",
    "from netCDF4 import Dataset\n",
    "\n",
    "import pyresample\n",
    "\n",
    "def extract_pixel_coordinates(ULx,Uly,LRx,LRy,shape):\n",
    "    in_proj  = Proj('+proj=sinu +R=6371007.181 +nadgrids=@null +wktext')\n",
    "    out_proj = Proj(init='epsg:4326')\n",
    "    x        = np.linspace(ULx, LRx, shape[0], endpoint=False) + abs((ULx-LRx)/(2*shape[0]))\n",
    "    y        = np.linspace(ULy, LRy, shape[0], endpoint=False) - abs((ULy-LRy)/(2*shape[0]))\n",
    "    xx, yy   = np.meshgrid(x,y)\n",
    "    plon, plat = transform(in_proj, out_proj, xx, yy)\n",
    "    mlon, mlat = plon[0], np.array([i[0] for i in plat])\n",
    "    plon       = plon.flatten()\n",
    "    plat       = plat.flatten()\n",
    "    return plon, plat, mlon, mlat\n",
    "ESMF.Manager(debug = True);\n",
    "FORTRAN_CONTIGUOUS = True;\n",
    "#shape              = (200 , 200);"
   ]
  },
  {
   "cell_type": "code",
   "execution_count": 9,
   "metadata": {},
   "outputs": [],
   "source": [
    "# READ REFLECTANCE FILE AND EXTRACT REFLECTANCE, LATITUDES & LONGITUDES\n",
    "fc       = Dataset('MCD43A4/121/MCD43A4.A2018121.h10v05.006.2018130033209.hdf', mode='r')\n",
    "struct   = getattr(fc, 'StructMetadata.0')\n",
    "struct1  = struct[struct.find('UpperLeftPointMtrs'): struct.find('LowerRightMtrs')][19:-3]\n",
    "struct2  = struct[struct.find('LowerRightMtrs')    : struct.find('Projection')    ][15:-3]\n",
    "ULx, ULy = literal_eval(struct1)\n",
    "LRx, LRy = literal_eval(struct2)\n",
    "fc_lon, fc_lat, fc_mlon, fc_mlat  = extract_pixel_coordinates(ULx,ULy,LRx,LRy,(2400,2400))\n",
    "lon_curv, lat_curv = np.meshgrid(fc_mlon, fc_mlat)\n",
    "\n",
    "nrb = fc.variables['Nadir_Reflectance_Band1'][:]\n",
    "fv  = fc.variables['Nadir_Reflectance_Band1']._FillValue\n",
    "lat1 = np.linspace(fc_mlat[0], fc_mlat[-1], 1200, endpoint=True)# + abs((fc_mlat[0]-fc_mlat[-1])/(2*200))\n",
    "lon1 = np.linspace(fc_mlon[0], fc_mlon[-1], 1200, endpoint=True)# - abs((fc_mlon[0]-fc_mlon[-1])/(2*200))\n",
    "lon2d, lat2d = np.meshgrid(lon1, lat1)"
   ]
  },
  {
   "cell_type": "code",
   "execution_count": 10,
   "metadata": {},
   "outputs": [
    {
     "ename": "TypeError",
     "evalue": "issubclass() arg 2 must be a class or tuple of classes",
     "output_type": "error",
     "traceback": [
      "\u001b[0;31m---------------------------------------------------------------------------\u001b[0m",
      "\u001b[0;31mTypeError\u001b[0m                                 Traceback (most recent call last)",
      "\u001b[0;32m<ipython-input-10-78f074e79df9>\u001b[0m in \u001b[0;36m<module>\u001b[0;34m\u001b[0m\n\u001b[1;32m      3\u001b[0m \u001b[0;34m\u001b[0m\u001b[0m\n\u001b[1;32m      4\u001b[0m \u001b[0mwf\u001b[0m \u001b[0;34m=\u001b[0m \u001b[0;32mlambda\u001b[0m \u001b[0mr\u001b[0m\u001b[0;34m:\u001b[0m \u001b[0;36m1\u001b[0m\u001b[0;34m/\u001b[0m\u001b[0mr\u001b[0m\u001b[0;34m**\u001b[0m\u001b[0;36m2\u001b[0m\u001b[0;34m\u001b[0m\u001b[0;34m\u001b[0m\u001b[0m\n\u001b[0;32m----> 5\u001b[0;31m \u001b[0mnrb_idw\u001b[0m \u001b[0;34m=\u001b[0m \u001b[0mpyresample\u001b[0m\u001b[0;34m.\u001b[0m\u001b[0mkd_tree\u001b[0m\u001b[0;34m.\u001b[0m\u001b[0mresample_custom\u001b[0m\u001b[0;34m(\u001b[0m\u001b[0morig_def\u001b[0m\u001b[0;34m,\u001b[0m \u001b[0mnrb\u001b[0m\u001b[0;34m,\u001b[0m \u001b[0mtarg_def\u001b[0m\u001b[0;34m,\u001b[0m \u001b[0mradius_of_influence\u001b[0m\u001b[0;34m=\u001b[0m\u001b[0;36m500000\u001b[0m\u001b[0;34m,\u001b[0m \u001b[0mneighbours\u001b[0m\u001b[0;34m=\u001b[0m\u001b[0;36m4\u001b[0m\u001b[0;34m,\u001b[0m \u001b[0mweight_funcs\u001b[0m\u001b[0;34m=\u001b[0m\u001b[0mwf\u001b[0m\u001b[0;34m,\u001b[0m \u001b[0mfill_value\u001b[0m\u001b[0;34m=\u001b[0m\u001b[0;36m32767\u001b[0m\u001b[0;34m)\u001b[0m\u001b[0;34m\u001b[0m\u001b[0;34m\u001b[0m\u001b[0m\n\u001b[0m",
      "\u001b[0;32m~/anaconda3/lib/python3.7/site-packages/pyresample/kd_tree.py\u001b[0m in \u001b[0;36mresample_custom\u001b[0;34m(source_geo_def, data, target_geo_def, radius_of_influence, weight_funcs, neighbours, epsilon, fill_value, reduce_data, nprocs, segments, with_uncert)\u001b[0m\n\u001b[1;32m    247\u001b[0m                      \u001b[0mepsilon\u001b[0m\u001b[0;34m=\u001b[0m\u001b[0mepsilon\u001b[0m\u001b[0;34m,\u001b[0m \u001b[0mweight_funcs\u001b[0m\u001b[0;34m=\u001b[0m\u001b[0mweight_funcs\u001b[0m\u001b[0;34m,\u001b[0m\u001b[0;34m\u001b[0m\u001b[0;34m\u001b[0m\u001b[0m\n\u001b[1;32m    248\u001b[0m                      \u001b[0mfill_value\u001b[0m\u001b[0;34m=\u001b[0m\u001b[0mfill_value\u001b[0m\u001b[0;34m,\u001b[0m \u001b[0mreduce_data\u001b[0m\u001b[0;34m=\u001b[0m\u001b[0mreduce_data\u001b[0m\u001b[0;34m,\u001b[0m\u001b[0;34m\u001b[0m\u001b[0;34m\u001b[0m\u001b[0m\n\u001b[0;32m--> 249\u001b[0;31m                      nprocs=nprocs, segments=segments, with_uncert=with_uncert)\n\u001b[0m\u001b[1;32m    250\u001b[0m \u001b[0;34m\u001b[0m\u001b[0m\n\u001b[1;32m    251\u001b[0m \u001b[0;34m\u001b[0m\u001b[0m\n",
      "\u001b[0;32m~/anaconda3/lib/python3.7/site-packages/pyresample/kd_tree.py\u001b[0m in \u001b[0;36m_resample\u001b[0;34m(source_geo_def, data, target_geo_def, resample_type, radius_of_influence, neighbours, epsilon, weight_funcs, fill_value, reduce_data, nprocs, segments, with_uncert)\u001b[0m\n\u001b[1;32m    263\u001b[0m                            \u001b[0mreduce_data\u001b[0m\u001b[0;34m=\u001b[0m\u001b[0mreduce_data\u001b[0m\u001b[0;34m,\u001b[0m\u001b[0;34m\u001b[0m\u001b[0;34m\u001b[0m\u001b[0m\n\u001b[1;32m    264\u001b[0m                            \u001b[0mnprocs\u001b[0m\u001b[0;34m=\u001b[0m\u001b[0mnprocs\u001b[0m\u001b[0;34m,\u001b[0m\u001b[0;34m\u001b[0m\u001b[0;34m\u001b[0m\u001b[0m\n\u001b[0;32m--> 265\u001b[0;31m                            segments=segments)\n\u001b[0m\u001b[1;32m    266\u001b[0m \u001b[0;34m\u001b[0m\u001b[0m\n\u001b[1;32m    267\u001b[0m     return get_sample_from_neighbour_info(resample_type,\n",
      "\u001b[0;32m~/anaconda3/lib/python3.7/site-packages/pyresample/kd_tree.py\u001b[0m in \u001b[0;36mget_neighbour_info\u001b[0;34m(source_geo_def, target_geo_def, radius_of_influence, neighbours, epsilon, reduce_data, nprocs, segments)\u001b[0m\n\u001b[1;32m    385\u001b[0m             warnings.warn(('Possible more than %s neighbours '\n\u001b[1;32m    386\u001b[0m                            'within %s m for some data points') %\n\u001b[0;32m--> 387\u001b[0;31m                           (neighbours, radius_of_influence))\n\u001b[0m\u001b[1;32m    388\u001b[0m \u001b[0;34m\u001b[0m\u001b[0m\n\u001b[1;32m    389\u001b[0m     \u001b[0;32mreturn\u001b[0m \u001b[0mvalid_input_index\u001b[0m\u001b[0;34m,\u001b[0m \u001b[0mvalid_output_index\u001b[0m\u001b[0;34m,\u001b[0m \u001b[0mindex_array\u001b[0m\u001b[0;34m,\u001b[0m \u001b[0mdistance_array\u001b[0m\u001b[0;34m\u001b[0m\u001b[0;34m\u001b[0m\u001b[0m\n",
      "\u001b[0;31mTypeError\u001b[0m: issubclass() arg 2 must be a class or tuple of classes"
     ]
    }
   ],
   "source": [
    "targ_def = pyresample.geometry.SwathDefinition(lons=lon2d, lats=lat2d)\n",
    "orig_def = pyresample.geometry.SwathDefinition(lons=lon_curv, lats=lat_curv)\n",
    "\n",
    "wf = lambda r: 1/r**2\n",
    "nrb_idw = pyresample.kd_tree.resample_custom(orig_def, nrb, targ_def, radius_of_influence=500000, neighbours=4, weight_funcs=wf, fill_value=32767)"
   ]
  },
  {
   "cell_type": "code",
   "execution_count": null,
   "metadata": {},
   "outputs": [],
   "source": [
    "# CREATE SOURCE GRID & FIELD FOR PYRESAMPLE\n",
    "source_lons, source_lats = np.meshgrid(ref_mlon, ref_mlat)\n",
    "orig_def                 = pyresample.geometry.SwathDefinition(lons=source_lons, lats=source_lats)\n",
    "\n",
    "# CREATE DESTINATION GRID & FIELD FOR PYRESAMPLE\n",
    "t_lat                    = np.linspace(ref_mlat[0], ref_mlat[-1], shape[0], endpoint=True)\n",
    "t_lon                    = np.linspace(ref_mlon[0], ref_mlon[-1], shape[1], endpoint=True)                         \n",
    "dest_lons, dest_lats     = np.meshgrid(t_lon, t_lat)\n",
    "dest_def                 = pyresample.geometry.SwathDefinition(lons=dest_lons, lats=dest_lats)\n",
    "\n",
    "nrb1a       = nrb1a.flatten()\n",
    "wf          = lambda r: 1/r**2\n",
    "nrb1b       = pyresample.kd_tree.resample_custom(orig_def, nrb1a, dest_def, radius_of_influence=500000, neighbours=8, weight_funcs=wf, fill_value=float(fv1))"
   ]
  },
  {
   "cell_type": "code",
   "execution_count": null,
   "metadata": {},
   "outputs": [],
   "source": [
    "sourcegrid = ESMF.Grid(np.array(nam_shape), staggerloc=ESMF.StaggerLoc.CENTER, coord_sys=ESMF.CoordSys.SPH_DEG)\n",
    "source_lon = sourcegrid.get_coords(0)\n",
    "source_lat = sourcegrid.get_coords(1)\n",
    "\n",
    "if FORTRAN_CONTIGUOUS:\n",
    "    source_lon[...] = nam_lon.T\n",
    "    source_lat[...] = nam_lat.T\n",
    "else:\n",
    "    source_lon[...] = nam_lon\n",
    "    source_lat[...] = nam_lat\n",
    "\n",
    "sourcefield = ESMF.Field(sourcegrid, name='Ref_Orig')"
   ]
  },
  {
   "cell_type": "code",
   "execution_count": null,
   "metadata": {},
   "outputs": [],
   "source": []
  },
  {
   "cell_type": "code",
   "execution_count": null,
   "metadata": {},
   "outputs": [],
   "source": []
  },
  {
   "cell_type": "code",
   "execution_count": null,
   "metadata": {},
   "outputs": [],
   "source": [
    "sourcegrid"
   ]
  },
  {
   "cell_type": "code",
   "execution_count": null,
   "metadata": {},
   "outputs": [],
   "source": [
    "sif_lat  = np.array([30.05, 38.23, 30.87, 30.01, 38.88])\n",
    "sif_lon  = np.array([-81, -77, -90.54, -88.4, -79.56])"
   ]
  },
  {
   "cell_type": "code",
   "execution_count": null,
   "metadata": {},
   "outputs": [],
   "source": [
    "sif_loc  = ESMF.LocStream(len(sif_lat), coord_sys = ESMF.CoordSys.SPH_DEG, name = 'sif_locs')\n",
    "\n",
    "sif_data = ESMF.Field(sif_loc, name = 'Town 2 m NAM Dewpoint')\n",
    "\n",
    "regrid   = ESMF.Regrid(sourcefield,sif_data, regrid_method = ESMF.RegridMethod.BILINEAR)#, unmapped_action = ESMF.UnmappedAction.IGNORE)\n",
    "\n"
   ]
  }
 ],
 "metadata": {
  "kernelspec": {
   "display_name": "Python 3",
   "language": "python",
   "name": "python3"
  },
  "language_info": {
   "codemirror_mode": {
    "name": "ipython",
    "version": 3
   },
   "file_extension": ".py",
   "mimetype": "text/x-python",
   "name": "python",
   "nbconvert_exporter": "python",
   "pygments_lexer": "ipython3",
   "version": "3.7.3"
  }
 },
 "nbformat": 4,
 "nbformat_minor": 2
}
