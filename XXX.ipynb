{
 "cells": [
  {
   "cell_type": "code",
   "execution_count": 13,
   "metadata": {},
   "outputs": [],
   "source": [
    "import matplotlib.pyplot as plt\n",
    "import numpy as np\n",
    "import pyresample\n",
    "from netCDF4 import Dataset\n",
    "from ast import literal_eval\n",
    "from pyproj import Proj, transform \n",
    "from cartopy import crs, feature\n",
    "import ESMF\n",
    "from matplotlib import cm, gridspec, rcParams\n",
    "FORTRAN_CONTIGUOUS = True\n",
    "\n",
    "def extract_pixel_coordinates(ULx,Uly,LRx,LRy,shape):\n",
    "    in_proj  = Proj('+proj=sinu +R=6371007.181 +nadgrids=@null +wktext') #------ Specify input projection\n",
    "    out_proj = Proj(init='epsg:4326')\n",
    "    x        = np.linspace(ULx, LRx, shape[0], endpoint=False) + abs((ULx-LRx)/(2*shape[0]))\n",
    "    y        = np.linspace(ULy, LRy, shape[0], endpoint=False) - abs((ULy-LRy)/(2*shape[0]))\n",
    "    xx, yy   = np.meshgrid(x,y)\n",
    "    plon, plat = transform(in_proj, out_proj, xx, yy)\n",
    "    mlon, mlat = plon[0], np.array([i[0] for i in plat])\n",
    "    plon       = plon.flatten()\n",
    "    plat       = plat.flatten()\n",
    "    return plon, plat, mlon, mlat"
   ]
  },
  {
   "cell_type": "markdown",
   "metadata": {},
   "source": [
    "#### Read reflectance file and extract variables and coordinates "
   ]
  },
  {
   "cell_type": "code",
   "execution_count": 14,
   "metadata": {},
   "outputs": [],
   "source": [
    "shape    = 600\n",
    "fc       = Dataset('MCD43A4/121/MCD43A4.A2018121.h10v05.006.2018130033209.hdf', mode='r')\n",
    "struct   = getattr(fc, 'StructMetadata.0')\n",
    "struct1  = struct[struct.find('UpperLeftPointMtrs'): struct.find('LowerRightMtrs')][19:-3]\n",
    "struct2  = struct[struct.find('LowerRightMtrs')    : struct.find('Projection')    ][15:-3]\n",
    "ULx, ULy = literal_eval(struct1)\n",
    "LRx, LRy = literal_eval(struct2)\n",
    "fc_lon, fc_lat, fc_mlon, fc_mlat  = extract_pixel_coordinates(ULx,ULy,LRx,LRy,(2400,2400))\n",
    "lon_curv, lat_curv                = np.meshgrid(fc_mlon, fc_mlat)\n",
    "\n",
    "nrb1a    = fc.variables['Nadir_Reflectance_Band1'][:]\n",
    "fv_ref   = fc.variables['Nadir_Reflectance_Band1']._FillValue\n",
    "lat1     = np.linspace(fc_mlat[0], fc_mlat[-1], shape, endpoint=True)# + abs((fc_mlat[0]-fc_mlat[-1])/(2*200))\n",
    "lon1     = np.linspace(fc_mlon[0], fc_mlon[-1], shape, endpoint=True)# - abs((fc_mlon[0]-fc_mlon[-1])/(2*200))\n",
    "\n",
    "lon_tar, lat_tar = np.meshgrid(lon1, lat1)"
   ]
  },
  {
   "cell_type": "markdown",
   "metadata": {},
   "source": [
    "#### Resample original reflectance data (2400x2400) to desired shape (i.e. 1200x1200, 800x800, etc.) using PyResample"
   ]
  },
  {
   "cell_type": "code",
   "execution_count": 15,
   "metadata": {},
   "outputs": [
    {
     "name": "stderr",
     "output_type": "stream",
     "text": [
      "/home/kaushal/anaconda3/lib/python3.7/site-packages/ipykernel_launcher.py:3: RuntimeWarning: divide by zero encountered in true_divide\n",
      "  This is separate from the ipykernel package so we can avoid doing imports until\n"
     ]
    }
   ],
   "source": [
    "targ_def = pyresample.geometry.SwathDefinition(lons=lon_tar   , lats=lat_tar)\n",
    "orig_def = pyresample.geometry.SwathDefinition(lons=lon_curv, lats=lat_curv)\n",
    "wf       = lambda r: 1/r**2\n",
    "nrb_resampled = pyresample.kd_tree.resample_custom(orig_def, nrb1a, targ_def, radius_of_influence=500000, neighbours=8, weight_funcs=wf, fill_value=float(fv_ref))"
   ]
  },
  {
   "cell_type": "markdown",
   "metadata": {},
   "source": [
    "#### Take output (resampled data) from PyResample and use it as source data for ESMF Regridding. The output will be obtained at SIF Locations "
   ]
  },
  {
   "cell_type": "code",
   "execution_count": 23,
   "metadata": {},
   "outputs": [],
   "source": [
    "sourcegrid = ESMF.Grid(np.array((shape,shape)), staggerloc=ESMF.StaggerLoc.CENTER, coord_sys=ESMF.CoordSys.SPH_DEG)\n",
    "source_lon = sourcegrid.get_coords(0)\n",
    "source_lat = sourcegrid.get_coords(1)\n",
    "\n",
    "if FORTRAN_CONTIGUOUS:\n",
    "    source_lon[...] = lon_tar.T\n",
    "    source_lat[...] = lat_tar.T\n",
    "else:\n",
    "    source_lon[...] = lon_tar\n",
    "    source_lat[...] = lat_tar\n",
    "\n",
    "sourcefield = ESMF.Field(sourcegrid, name='Reflectance_Resampled')\n",
    "\n",
    "if FORTRAN_CONTIGUOUS:\n",
    "    sourcefield.data[...] = nrb_resampled.T\n",
    "else:\n",
    "    sourcefield.data[...] = nrb_resampled\n",
    "\n",
    "sif_lat  = np.array([30.05, 38.23, 30.87 , 30.01, 38.88])\n",
    "sif_lon  = np.array([-81  , -77  , -90.54, -88.4, -79.56])\n",
    "sif_loc  = ESMF.LocStream(len(sif_lat), coord_sys = ESMF.CoordSys.SPH_DEG, name = 'sif_locs')\n",
    "sif_loc['ESMF:Lat'] = sif_lat\n",
    "sif_loc['ESMF:Lon'] = sif_lon\n",
    "sif_data = ESMF.Field(sif_loc, name = 'Reflectance_Interpolated_at_Sif_Locations')\n",
    "regrid   = ESMF.Regrid(sourcefield, sif_data, regrid_method = ESMF.RegridMethod.NEAREST_STOD, unmapped_action = ESMF.UnmappedAction.IGNORE)#,dst_mask_values=np.array([float(fv_ref)]))\n",
    "\n",
    "sif_data = regrid(sourcefield, sif_data)"
   ]
  },
  {
   "cell_type": "code",
   "execution_count": 24,
   "metadata": {},
   "outputs": [
    {
     "data": {
      "text/plain": [
       "array([0.00992049, 0.13952688, 0.05168508, 0.0163983 , 0.13270207])"
      ]
     },
     "execution_count": 24,
     "metadata": {},
     "output_type": "execute_result"
    }
   ],
   "source": [
    "sif_data.data"
   ]
  },
  {
   "cell_type": "code",
   "execution_count": null,
   "metadata": {},
   "outputs": [],
   "source": []
  }
 ],
 "metadata": {
  "kernelspec": {
   "display_name": "Python 3",
   "language": "python",
   "name": "python3"
  },
  "language_info": {
   "codemirror_mode": {
    "name": "ipython",
    "version": 3
   },
   "file_extension": ".py",
   "mimetype": "text/x-python",
   "name": "python",
   "nbconvert_exporter": "python",
   "pygments_lexer": "ipython3",
   "version": "3.7.3"
  }
 },
 "nbformat": 4,
 "nbformat_minor": 2
}
