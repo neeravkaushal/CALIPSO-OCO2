{
 "cells": [
  {
   "cell_type": "code",
   "execution_count": 1,
   "metadata": {},
   "outputs": [
    {
     "name": "stderr",
     "output_type": "stream",
     "text": [
      "/home/kaushal/anaconda3/lib/python3.7/site-packages/dask/config.py:168: YAMLLoadWarning: calling yaml.load() without Loader=... is deprecated, as the default Loader is unsafe. Please read https://msg.pyyaml.org/load for full details.\n",
      "  data = yaml.load(f.read()) or {}\n",
      "/home/kaushal/anaconda3/lib/python3.7/site-packages/distributed/config.py:20: YAMLLoadWarning: calling yaml.load() without Loader=... is deprecated, as the default Loader is unsafe. Please read https://msg.pyyaml.org/load for full details.\n",
      "  defaults = yaml.load(f)\n"
     ]
    }
   ],
   "source": [
    "import glob #---------------------------------------------------- To read the files or folders in a system directory\n",
    "import re #------------------------------------------------------ To replace characters in a string\n",
    "import numpy    as np\n",
    "import datetime\n",
    "import warnings #------------------------------------------------ To suppress warnings\n",
    "import h5py #---------------------------------------------------- To read hdf5 files\n",
    "import pandas   as pd\n",
    "import pyresample\n",
    "from   scipy                         import spatial #-------------------------------------- To extract the values and indices of k nearest neighbors\n",
    "from   ast                           import literal_eval #----------------------------------- For literal evaluation of a string to extract python objects\n",
    "from   pyproj                        import Proj, transform #----------------------------- To interconvert different projections\n",
    "from   netCDF4                       import Dataset #------------------------------------ To read nc , nc4 and hdf4 files\n",
    "from   photutils.utils               import ShepardIDWInterpolator as idw #------ To use Shepard's Inverse Distance Weighing Interpolation tool\n",
    "from   IPython.core.interactiveshell import InteractiveShell  #---- Output all jupyter lab inputs instead of the last one\n",
    "from   IPython.display               import Markdown, display\n",
    "\n",
    "InteractiveShell.ast_node_interactivity = \"all\"\n",
    "warnings.simplefilter('ignore','always')\n",
    "def printmd(string):\n",
    "    display(Markdown(string))"
   ]
  },
  {
   "cell_type": "code",
   "execution_count": 2,
   "metadata": {},
   "outputs": [],
   "source": [
    "### Define Non-Iterative Functions and Variables\n",
    "\n",
    "in_proj  = Proj('+proj=sinu +R=6371007.181 +nadgrids=@null +wktext') #------ Specify input projection\n",
    "out_proj = Proj(init='epsg:4326') #----------------------------------------- Specify output projection\n",
    "\n",
    "\n",
    "def Times(x): #------------------------------------------Extract Time from sounding ID. NOTE the time format is HH:MM:SSSS\n",
    "    y   = str(x)\n",
    "    yy  = y[8:]\n",
    "    yyy = '{}:{}:{}'.format(yy[:2], yy[2:4], yy[4:])\n",
    "    return yyy\n",
    "\n",
    "hours = [0, 3000000, 6000000, 9000000, 12000000, 15000000, 18000000, 21000000, 23595900]\n",
    "def f(x): #---------------------------------------------Extract the hour interval of sif time (which  is in seconds)\n",
    "    for i in range(len(hours)):\n",
    "        if (x>hours[i]) and (x<hours[i+1]):\n",
    "            lb = hours[i]\n",
    "            ub = hours[i+1]\n",
    "            return lb,ub\n",
    "            break\n",
    "\n",
    "def format_time(t): #----------------------------------- Format the time into HH:MM:SSSS for the raw format HH:MM:SSSSSSSS\n",
    "    s = t\n",
    "    return s[:-4]\n",
    "\n",
    "def nn(latitude_list,longitude_list,target): #---------- Find the index of nearest neighbor (NOTE: absolute difference)\n",
    "    target_lat, target_lon = target[1], target[0]\n",
    "    d = [abs(latitude-target_lat) + abs(longitude-target_lon) for latitude,longitude in zip(latitude_list,longitude_list)]\n",
    "    return np.argmin(d)\n",
    "\n",
    "data = np.genfromtxt('sn_bound_10deg.txt', skip_header = 7, skip_footer = 3)\n",
    "def tile_finder(Lat,Lon): #----------------------------- Find modis tile numbers in which the argument lat,lon lies\n",
    "    in_tile = False\n",
    "    i = 0\n",
    "    while(not in_tile):\n",
    "        in_tile = Lat >= data[i, 4] and Lat <= data[i, 5] and Lon >= data[i, 2] and Lon <= data[i, 3]\n",
    "        i += 1\n",
    "    V = str(int(data[i-1, 0])).zfill(2)\n",
    "    H = str(int(data[i-1, 1])).zfill(2)\n",
    "    return H,V\n",
    "\n",
    "def extract_pixel_coordinates(ULx,Uly,LRx,LRy,shape):\n",
    "    x        = np.linspace(ULx, LRx, shape[0], endpoint=False) + abs((ULx-LRx)/(2*shape[0]))\n",
    "    y        = np.linspace(ULy, LRy, shape[0], endpoint=False) - abs((ULy-LRy)/(2*shape[0]))\n",
    "    xx, yy   = np.meshgrid(x,y)\n",
    "    xs       = xx.flatten()\n",
    "    ys       = yy.flatten()\n",
    "    plon, plat = transform(in_proj, out_proj, xs, ys)\n",
    "    return plon, plat\n",
    "\n",
    "def temporal_interpolation(time1,val1,time2,val2,timeX):\n",
    "    df    = pd.DataFrame( [(time1, val1) , (time2, val2)] , columns=['Times','Values'] ) \n",
    "    df    = df.set_index('Times')\n",
    "    df    = pd.Series(df['Values'], index=df.index)\n",
    "    df.index = pd.to_datetime(df.index)\n",
    "    inter = df.resample('S').interpolate(method='linear')\n",
    "    valX  = inter.loc[timeX]\n",
    "    return valX\n",
    "\n",
    "sif_file_list     = glob.glob('OCO2_sif/*.nc4')    #--------------------------------------------- List of all OCO2 files\n",
    "calipso_file_list = glob.glob('OCO2_calipso/*.h5') #--------------------------------------------- List of all OCO2-CALIPSO files\n",
    "fpar_file_list    = glob.glob('MCD15A3H/*.hdf')    \n",
    "par_folder_list   = glob.glob('MCD18A2/*')\n",
    "ref_folder_list   = glob.glob('MCD43A4/*')\n",
    "\n",
    "data              = np.genfromtxt('sn_bound_10deg.txt', skip_header = 7, skip_footer = 3) #------ File having tile numbers and IDs"
   ]
  },
  {
   "cell_type": "code",
   "execution_count": 26,
   "metadata": {},
   "outputs": [],
   "source": [
    "par       = Dataset('MCD18A2/121/MCD18A2.A2018121.h11v04.006.2019091181205.hdf', mode='r')\n",
    "#par_date  = datetime.datetime.strptime(par_file.split('.')[1][1:], '%Y%j').strftime(\"%Y-%m-%d\")\n",
    "gmt_0000  = par.variables['GMT_0000_PAR'][:].flatten() #-----------------------------------------Read par 3-hourly variables\n",
    "gmt_0300  = par.variables['GMT_0300_PAR'][:].flatten()\n",
    "gmt_0600  = par.variables['GMT_0600_PAR'][:].flatten()\n",
    "gmt_0900  = par.variables['GMT_0900_PAR'][:].flatten()\n",
    "gmt_1200  = par.variables['GMT_1200_PAR'][:].flatten()\n",
    "gmt_1500  = par.variables['GMT_1500_PAR'][:].flatten()\n",
    "gmt_1800  = par.variables['GMT_1800_PAR'][:].flatten()\n",
    "gmt_2100  = par.variables['GMT_2100_PAR'][:].flatten()\n",
    "\n",
    "shape=(240,240)\n",
    "struct    = getattr(par, 'StructMetadata.0')\n",
    "struct1   = struct[struct.find('UpperLeftPointMtrs'): struct.find('LowerRightMtrs')][19:-3] #-------------]\n",
    "struct2   = struct[struct.find('LowerRightMtrs')    : struct.find('Projection')    ][15:-3] #-------------] Extract upper right and lower left\n",
    "ULx, ULy  = literal_eval(struct1) #-----------------------------------------------------------------------] coordinates of the tile of opened par file\n",
    "LRx, LRy  = literal_eval(struct2) #-----------------------------------------------------------------------]\n",
    "par_lon,par_lat = extract_pixel_coordinates(ULx,ULy,LRx,LRy,shape) #----------- Extract the par lat,lon meshgrid in proper projection \n",
    "#tree      = spatial.KDTree(   list(  zip(par_lon, par_lat) )) #---------------- Create a nearest neighbor spatial tree"
   ]
  },
  {
   "cell_type": "code",
   "execution_count": 28,
   "metadata": {},
   "outputs": [],
   "source": [
    "par_lon = par_lon.reshape(240,240)\n",
    "par_lat = par_lat.reshape(240,240)"
   ]
  },
  {
   "cell_type": "code",
   "execution_count": 29,
   "metadata": {},
   "outputs": [],
   "source": [
    "gmt_1500 = gmt_1500.reshape(240,240)"
   ]
  },
  {
   "cell_type": "code",
   "execution_count": 7,
   "metadata": {},
   "outputs": [],
   "source": [
    "#lon_curv  = par_lon[5000:10000]\n",
    "#lat_curv  = par_lat[5000:10000]\n",
    "\n",
    "#gmt_1500  = par.variables['GMT_1500_PAR'][:].flatten()\n",
    "#lon       = np.linspace(-180,180,240,endpoint=True)#par_lon\n",
    "#lat       = np.linspace(-90,90,240,endpoint=True)#par_lat\n",
    "#lon\n",
    "\n",
    "# get 2D versions of the lat and lon variables (note the -180 here!)\n",
    "#lon2d, lat2d = np.meshgrid(lon, lat)"
   ]
  },
  {
   "cell_type": "code",
   "execution_count": 30,
   "metadata": {},
   "outputs": [],
   "source": [
    "tar_lon = par_lon[100].reshape(12,20)\n",
    "tar_lat = par_lat[100].reshape(12,20)"
   ]
  },
  {
   "cell_type": "code",
   "execution_count": 31,
   "metadata": {},
   "outputs": [],
   "source": [
    "source_def = pyresample.geometry.SwathDefinition(lons=par_lon, lats=par_lat)\n",
    "target_def = pyresample.geometry.SwathDefinition(lons=tar_lon, lats=tar_lat)"
   ]
  },
  {
   "cell_type": "code",
   "execution_count": null,
   "metadata": {},
   "outputs": [],
   "source": []
  },
  {
   "cell_type": "code",
   "execution_count": 32,
   "metadata": {},
   "outputs": [
    {
     "ename": "AttributeError",
     "evalue": "'SwathDefinition' object has no attribute 'proj_str'",
     "output_type": "error",
     "traceback": [
      "\u001b[0;31m---------------------------------------------------------------------------\u001b[0m",
      "\u001b[0;31mAttributeError\u001b[0m                            Traceback (most recent call last)",
      "\u001b[0;32m<ipython-input-32-7fe6310cff40>\u001b[0m in \u001b[0;36m<module>\u001b[0;34m\u001b[0m\n\u001b[0;32m----> 1\u001b[0;31m \u001b[0mresult\u001b[0m \u001b[0;34m=\u001b[0m \u001b[0mpyresample\u001b[0m\u001b[0;34m.\u001b[0m\u001b[0mbilinear\u001b[0m\u001b[0;34m.\u001b[0m\u001b[0mresample_bilinear\u001b[0m\u001b[0;34m(\u001b[0m\u001b[0mgmt_1500\u001b[0m\u001b[0;34m,\u001b[0m \u001b[0msource_def\u001b[0m\u001b[0;34m,\u001b[0m \u001b[0mtarget_def\u001b[0m\u001b[0;34m,\u001b[0m \u001b[0mradius\u001b[0m\u001b[0;34m=\u001b[0m\u001b[0;36m50e3\u001b[0m\u001b[0;34m,\u001b[0m \u001b[0mneighbours\u001b[0m\u001b[0;34m=\u001b[0m\u001b[0;36m32\u001b[0m\u001b[0;34m,\u001b[0m \u001b[0mnprocs\u001b[0m\u001b[0;34m=\u001b[0m\u001b[0;36m1\u001b[0m\u001b[0;34m,\u001b[0m \u001b[0mfill_value\u001b[0m\u001b[0;34m=\u001b[0m\u001b[0;32mNone\u001b[0m\u001b[0;34m,\u001b[0m \u001b[0mreduce_data\u001b[0m\u001b[0;34m=\u001b[0m\u001b[0;32mTrue\u001b[0m\u001b[0;34m,\u001b[0m \u001b[0msegments\u001b[0m\u001b[0;34m=\u001b[0m\u001b[0;32mNone\u001b[0m\u001b[0;34m,\u001b[0m \u001b[0mepsilon\u001b[0m\u001b[0;34m=\u001b[0m\u001b[0;36m0\u001b[0m\u001b[0;34m)\u001b[0m\u001b[0;34m\u001b[0m\u001b[0;34m\u001b[0m\u001b[0m\n\u001b[0m",
      "\u001b[0;32m~/anaconda3/lib/python3.7/site-packages/pyresample/bilinear/__init__.py\u001b[0m in \u001b[0;36mresample_bilinear\u001b[0;34m(data, source_geo_def, target_area_def, radius, neighbours, nprocs, fill_value, reduce_data, segments, epsilon)\u001b[0m\n\u001b[1;32m     84\u001b[0m                                                  \u001b[0mreduce_data\u001b[0m\u001b[0;34m=\u001b[0m\u001b[0mreduce_data\u001b[0m\u001b[0;34m,\u001b[0m\u001b[0;34m\u001b[0m\u001b[0;34m\u001b[0m\u001b[0m\n\u001b[1;32m     85\u001b[0m                                                  \u001b[0msegments\u001b[0m\u001b[0;34m=\u001b[0m\u001b[0msegments\u001b[0m\u001b[0;34m,\u001b[0m\u001b[0;34m\u001b[0m\u001b[0;34m\u001b[0m\u001b[0m\n\u001b[0;32m---> 86\u001b[0;31m                                                  epsilon=epsilon)\n\u001b[0m\u001b[1;32m     87\u001b[0m \u001b[0;34m\u001b[0m\u001b[0m\n\u001b[1;32m     88\u001b[0m     \u001b[0mdata\u001b[0m \u001b[0;34m=\u001b[0m \u001b[0m_check_data_shape\u001b[0m\u001b[0;34m(\u001b[0m\u001b[0mdata\u001b[0m\u001b[0;34m,\u001b[0m \u001b[0minput_idxs\u001b[0m\u001b[0;34m)\u001b[0m\u001b[0;34m\u001b[0m\u001b[0;34m\u001b[0m\u001b[0m\n",
      "\u001b[0;32m~/anaconda3/lib/python3.7/site-packages/pyresample/bilinear/__init__.py\u001b[0m in \u001b[0;36mget_bil_info\u001b[0;34m(source_geo_def, target_area_def, radius, neighbours, nprocs, masked, reduce_data, segments, epsilon)\u001b[0m\n\u001b[1;32m    236\u001b[0m \u001b[0;34m\u001b[0m\u001b[0m\n\u001b[1;32m    237\u001b[0m     \u001b[0;31m# Get output projection as pyproj object\u001b[0m\u001b[0;34m\u001b[0m\u001b[0;34m\u001b[0m\u001b[0;34m\u001b[0m\u001b[0m\n\u001b[0;32m--> 238\u001b[0;31m     \u001b[0mproj\u001b[0m \u001b[0;34m=\u001b[0m \u001b[0mProj\u001b[0m\u001b[0;34m(\u001b[0m\u001b[0mtarget_area_def\u001b[0m\u001b[0;34m.\u001b[0m\u001b[0mproj_str\u001b[0m\u001b[0;34m)\u001b[0m\u001b[0;34m\u001b[0m\u001b[0;34m\u001b[0m\u001b[0m\n\u001b[0m\u001b[1;32m    239\u001b[0m \u001b[0;34m\u001b[0m\u001b[0m\n\u001b[1;32m    240\u001b[0m     \u001b[0;31m# Get output x/y coordinates\u001b[0m\u001b[0;34m\u001b[0m\u001b[0;34m\u001b[0m\u001b[0;34m\u001b[0m\u001b[0m\n",
      "\u001b[0;31mAttributeError\u001b[0m: 'SwathDefinition' object has no attribute 'proj_str'"
     ]
    }
   ],
   "source": [
    "result = pyresample.bilinear.resample_bilinear(gmt_1500, source_def, target_def, radius=50e3, neighbours=32, nprocs=1, fill_value=None, reduce_data=True, segments=None, epsilon=0)"
   ]
  },
  {
   "cell_type": "code",
   "execution_count": 16,
   "metadata": {},
   "outputs": [],
   "source": [
    "import numpy as np\n",
    "from pyresample import image, geometry\n",
    "area_def = geometry.AreaDefinition('areaD', 'Europe (3km, HRV, VTC)', 'areaD',\n",
    "                               {'a': '6378144.0', 'b': '6356759.0',\n",
    "                                'lat_0': '50.00', 'lat_ts': '50.00',\n",
    "                                'lon_0': '8.00', 'proj': 'stere'},\n",
    "                               800, 800,\n",
    "                               [-1370912.72, -909968.64,\n",
    "                                1029087.28, 1490031.36])\n",
    "data = np.fromfunction(lambda y, x: y*x, (50, 10))\n",
    "lons = np.fromfunction(lambda y, x: 3 + x, (50, 10))\n",
    "lats = np.fromfunction(lambda y, x: 75 - y, (50, 10))\n",
    "swath_def = geometry.SwathDefinition(lons=lons, lats=lats)\n",
    "swath_con = image.ImageContainerNearest(data, swath_def, radius_of_influence=5000)\n",
    "area_con = swath_con.resample(area_def)\n",
    "result = area_con.image_data"
   ]
  },
  {
   "cell_type": "code",
   "execution_count": 14,
   "metadata": {},
   "outputs": [
    {
     "data": {
      "text/plain": [
       "array([[0., 0., 0., ..., 0., 0., 0.],\n",
       "       [0., 0., 0., ..., 0., 0., 0.],\n",
       "       [0., 0., 0., ..., 0., 0., 0.],\n",
       "       ...,\n",
       "       [0., 0., 0., ..., 0., 0., 0.],\n",
       "       [0., 0., 0., ..., 0., 0., 0.],\n",
       "       [0., 0., 0., ..., 0., 0., 0.]])"
      ]
     },
     "execution_count": 14,
     "metadata": {},
     "output_type": "execute_result"
    }
   ],
   "source": [
    "result"
   ]
  },
  {
   "cell_type": "code",
   "execution_count": null,
   "metadata": {},
   "outputs": [],
   "source": []
  },
  {
   "cell_type": "code",
   "execution_count": 111,
   "metadata": {},
   "outputs": [],
   "source": [
    "indices = np.arange(0,57599,1)\n",
    "nns = []\n",
    "#par_lon[indexx], par_lat[indexx]\n",
    "#gmt_1500[indexx]\n",
    "for indexx in indices:\n",
    "    D = []\n",
    "    n = []\n",
    "    for iii in np.arange(2,50,1):\n",
    "        target = (par_lon[indexx], par_lat[indexx])\n",
    "        neighbors          = tree.query([(par_lon[indexx], par_lat[indexx])], k=iii)[1][0] #---Find k=3 nearest spatial neighbors indices at target\n",
    "        lon_for_idw        = [par_lon[i] for i in neighbors] #----------------------------Extract longitudes at these indices\n",
    "        lat_for_idw        = [par_lat[i] for i in neighbors] #----------------------------Extract latitudes also\n",
    "        coors_for_idw      = [(i,j) for i,j in zip(lat_for_idw,lon_for_idw)] #---------Create a list of coordinates (lat lon tuples)\n",
    "\n",
    "        gmt_1500n       = [gmt_1500[i] for i in neighbors]\n",
    "        func_gmt_1500   = idw(coors_for_idw, gmt_1500n)\n",
    "        interp_gmt_1500 = func_gmt_1500(target)\n",
    "        diff            = abs(gmt_1500[indexx] - interp_gmt_1500)*100/gmt_1500[indexx]\n",
    "        D.append(diff)\n",
    "        n.append(iii)\n",
    "  \n",
    "    arg = np.argmin(np.array(D))\n",
    "    nns.append(np.array(n)[arg])\n",
    "nns = np.array(nns)"
   ]
  },
  {
   "cell_type": "code",
   "execution_count": 113,
   "metadata": {},
   "outputs": [
    {
     "name": "stdout",
     "output_type": "stream",
     "text": [
      "Size of original array: 57599\n",
      "Frequency of unique values of the said array:\n",
      "[[   2    3    4    5    6    7    8    9   10   11   12   13   14   15\n",
      "    16   17   18   19   20   21   22   23   24   25   26   27   28   29\n",
      "    30   31   32   33   34   35   36   37   38   39   40   41   42   43\n",
      "    44   45   46   47   48   49]\n",
      " [9661 8402 6135 4446 3598 3578 3026  750 1692  416 1874 1192  659  760\n",
      "   539  628  515  555  564  431  455  435  472  287  457   32  460   15\n",
      "   502   26  392  141  394  265  325  321  226  360  344  148  341   94\n",
      "   327  139  471  140  512   97]]\n"
     ]
    }
   ],
   "source": [
    "a = nns\n",
    "print(\"Size of original array:\",len(a))\n",
    "unique_elements, counts_elements = np.unique(a, return_counts=True)\n",
    "print(\"Frequency of unique values of the said array:\")\n",
    "print(np.asarray((unique_elements, counts_elements)))"
   ]
  },
  {
   "cell_type": "code",
   "execution_count": null,
   "metadata": {},
   "outputs": [],
   "source": [
    "for sub in range(len(sif_time)): #--------------------------Loop through the list of a dataframe cell (grouped dataframe cells consist of lists of values)\n",
    "    target          = (sif_lat[sub] , sif_lon[sub])  #---------------------------------------------------Make sif coordinates target for spatial interpolation\n",
    "    sif_time_sub    = re.sub(':', '', sif_time[sub]) #---------------------------------------------------Remove : from sif_time\n",
    "    timeX           = pd.to_datetime(sif_time_sub.ljust(8, \"0\"), format=\"%H%M%S%f\").strftime(\"%H:%M:%S\")#--Change resolution from SSSS to SS for faster interpolation\n",
    "    lower_bound_key = str('interp_gmt_')+str(f(int(sif_time_sub))[0]).zfill(8)[:4] #---Find lower bound of interval in which sif time lies\n",
    "\n",
    "    if f(int(sif_time_sub))[1] == 23595900: #-----------------------------------------------If upper bound is greater than 2100 hours that is 235959\n",
    "        upper_bound_key = str('interp_gmt_')+str(f(int(sif_time_sub))[1]).zfill(8)[:6] #----upper key becomes interp_gmt_235959\n",
    "    else:                                                                              #----else                   \n",
    "        upper_bound_key = str('interp_gmt_')+str(f(int(sif_time_sub))[1]).zfill(8)[:4] #----upper key is as it is (interp_gmt_1200,1500,1800,etc)\n",
    "\n",
    "    neigh5          = tree.query([(sif_lon[sub], sif_lat[sub])], k=10)[1][0] #---Find k=3 nearest spatial neighbors indices at target\n",
    "    lon_for_idw     = [par_lon[i] for i in neigh5] #----------------------------Extract longitudes at these indices\n",
    "    lat_for_idw     = [par_lat[i] for i in neigh5] #----------------------------Extract latitudes also\n",
    "    coors_for_idw   = [(i,j) for i,j in zip(lat_for_idw,lon_for_idw)] #---------Create a list of coordinates (lat lon tuples)\n",
    "\n",
    "    gmt_0000n       = [gmt_0000[i] for i in neigh5] #---------------------------Find variable values at nearest neighbors\n",
    "    gmt_0300n       = [gmt_0300[i] for i in neigh5]\n",
    "    gmt_0600n       = [gmt_0600[i] for i in neigh5]\n",
    "    gmt_0900n       = [gmt_0900[i] for i in neigh5]\n",
    "    gmt_1200n       = [gmt_1200[i] for i in neigh5]\n",
    "    gmt_1500n       = [gmt_1500[i] for i in neigh5]\n",
    "    gmt_1800n       = [gmt_1800[i] for i in neigh5]\n",
    "    gmt_2100n       = [gmt_2100[i] for i in neigh5]\n",
    "\n",
    "    func_gmt_0000   = idw(coors_for_idw, gmt_0000n) #---------------------------Create inverse distance weighing (IDW) interpolation function at nn coordinates\n",
    "    func_gmt_0300   = idw(coors_for_idw, gmt_0300n)\n",
    "    func_gmt_0600   = idw(coors_for_idw, gmt_0600n)\n",
    "    func_gmt_0900   = idw(coors_for_idw, gmt_0900n)\n",
    "    func_gmt_1200   = idw(coors_for_idw, gmt_1200n)\n",
    "    func_gmt_1500   = idw(coors_for_idw, gmt_1500n)\n",
    "    func_gmt_1800   = idw(coors_for_idw, gmt_1800n)\n",
    "    func_gmt_2100   = idw(coors_for_idw, gmt_2100n)\n",
    "\n",
    "    interp_gmt_0000 = func_gmt_0000(target) #-----------------------------------Find interpolated hourly par at target\n",
    "    interp_gmt_0300 = func_gmt_0300(target)\n",
    "    interp_gmt_0600 = func_gmt_0600(target)\n",
    "    interp_gmt_0900 = func_gmt_0900(target)\n",
    "    interp_gmt_1200 = func_gmt_1200(target)\n",
    "    interp_gmt_1500 = func_gmt_1500(target)\n",
    "    interp_gmt_1800 = func_gmt_1800(target)\n",
    "    interp_gmt_2100 = func_gmt_2100(target)"
   ]
  }
 ],
 "metadata": {
  "kernelspec": {
   "display_name": "Python 3",
   "language": "python",
   "name": "python3"
  },
  "language_info": {
   "codemirror_mode": {
    "name": "ipython",
    "version": 3
   },
   "file_extension": ".py",
   "mimetype": "text/x-python",
   "name": "python",
   "nbconvert_exporter": "python",
   "pygments_lexer": "ipython3",
   "version": "3.7.3"
  }
 },
 "nbformat": 4,
 "nbformat_minor": 2
}
