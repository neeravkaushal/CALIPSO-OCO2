{
 "cells": [
  {
   "cell_type": "code",
   "execution_count": 8,
   "metadata": {},
   "outputs": [
    {
     "name": "stdout",
     "output_type": "stream",
     "text": [
      "length: 3113\n"
     ]
    },
    {
     "data": {
      "text/plain": [
       "<class 'netCDF4._netCDF4.Dimension'>: name = 'SIF_757nm', size = 3113"
      ]
     },
     "execution_count": 8,
     "metadata": {},
     "output_type": "execute_result"
    },
    {
     "data": {
      "text/plain": [
       "<class 'netCDF4._netCDF4.Dimension'>: name = 'continuum_radiance_757nm', size = 3113"
      ]
     },
     "execution_count": 8,
     "metadata": {},
     "output_type": "execute_result"
    },
    {
     "data": {
      "text/plain": [
       "<class 'netCDF4._netCDF4.Dimension'>: name = 'continuum_radiance_771nm', size = 3113"
      ]
     },
     "execution_count": 8,
     "metadata": {},
     "output_type": "execute_result"
    },
    {
     "data": {
      "text/plain": [
       "<class 'netCDF4._netCDF4.Dimension'>: name = 'daily_correction_factor', size = 3113"
      ]
     },
     "execution_count": 8,
     "metadata": {},
     "output_type": "execute_result"
    },
    {
     "data": {
      "text/plain": [
       "<class 'netCDF4._netCDF4.Dimension'>: name = 'footprint', size = 3113"
      ]
     },
     "execution_count": 8,
     "metadata": {},
     "output_type": "execute_result"
    },
    {
     "data": {
      "text/plain": [
       "<class 'netCDF4._netCDF4.Dimension'>: name = 'IGBP_index', size = 3113"
      ]
     },
     "execution_count": 8,
     "metadata": {},
     "output_type": "execute_result"
    },
    {
     "data": {
      "text/plain": [
       "<class 'netCDF4._netCDF4.Dimension'>: name = 'latitude', size = 3113"
      ]
     },
     "execution_count": 8,
     "metadata": {},
     "output_type": "execute_result"
    },
    {
     "data": {
      "text/plain": [
       "<class 'netCDF4._netCDF4.Dimension'>: name = 'longitude', size = 3113"
      ]
     },
     "execution_count": 8,
     "metadata": {},
     "output_type": "execute_result"
    },
    {
     "data": {
      "text/plain": [
       "<class 'netCDF4._netCDF4.Dimension'>: name = 'measurement_mode', size = 3113"
      ]
     },
     "execution_count": 8,
     "metadata": {},
     "output_type": "execute_result"
    },
    {
     "data": {
      "text/plain": [
       "<class 'netCDF4._netCDF4.Dimension'>: name = 'orbit_number', size = 3113"
      ]
     },
     "execution_count": 8,
     "metadata": {},
     "output_type": "execute_result"
    },
    {
     "data": {
      "text/plain": [
       "<class 'netCDF4._netCDF4.Dimension'>: name = 'reduced_chi2_757nm', size = 3113"
      ]
     },
     "execution_count": 8,
     "metadata": {},
     "output_type": "execute_result"
    },
    {
     "data": {
      "text/plain": [
       "<class 'netCDF4._netCDF4.Dimension'>: name = 'reduced_chi2_771nm', size = 3113"
      ]
     },
     "execution_count": 8,
     "metadata": {},
     "output_type": "execute_result"
    },
    {
     "data": {
      "text/plain": [
       "<class 'netCDF4._netCDF4.Dimension'>: name = 'sensor_azimuth_angle', size = 3113"
      ]
     },
     "execution_count": 8,
     "metadata": {},
     "output_type": "execute_result"
    },
    {
     "data": {
      "text/plain": [
       "<class 'netCDF4._netCDF4.Dimension'>: name = 'sensor_zenith_angle', size = 3113"
      ]
     },
     "execution_count": 8,
     "metadata": {},
     "output_type": "execute_result"
    },
    {
     "data": {
      "text/plain": [
       "<class 'netCDF4._netCDF4.Dimension'>: name = 'SIF_757nm_relative', size = 3113"
      ]
     },
     "execution_count": 8,
     "metadata": {},
     "output_type": "execute_result"
    },
    {
     "data": {
      "text/plain": [
       "<class 'netCDF4._netCDF4.Dimension'>: name = 'SIF_757nm_uncert', size = 3113"
      ]
     },
     "execution_count": 8,
     "metadata": {},
     "output_type": "execute_result"
    },
    {
     "data": {
      "text/plain": [
       "<class 'netCDF4._netCDF4.Dimension'>: name = 'SIF_771nm', size = 3113"
      ]
     },
     "execution_count": 8,
     "metadata": {},
     "output_type": "execute_result"
    },
    {
     "data": {
      "text/plain": [
       "<class 'netCDF4._netCDF4.Dimension'>: name = 'SIF_771nm_relative', size = 3113"
      ]
     },
     "execution_count": 8,
     "metadata": {},
     "output_type": "execute_result"
    },
    {
     "data": {
      "text/plain": [
       "<class 'netCDF4._netCDF4.Dimension'>: name = 'SIF_771nm_uncert', size = 3113"
      ]
     },
     "execution_count": 8,
     "metadata": {},
     "output_type": "execute_result"
    },
    {
     "data": {
      "text/plain": [
       "<class 'netCDF4._netCDF4.Dimension'>: name = 'solar_azimuth_angle', size = 3113"
      ]
     },
     "execution_count": 8,
     "metadata": {},
     "output_type": "execute_result"
    },
    {
     "data": {
      "text/plain": [
       "<class 'netCDF4._netCDF4.Dimension'>: name = 'solar_zenith_angle', size = 3113"
      ]
     },
     "execution_count": 8,
     "metadata": {},
     "output_type": "execute_result"
    },
    {
     "data": {
      "text/plain": [
       "<class 'netCDF4._netCDF4.Dimension'>: name = 'sounding_id', size = 3113"
      ]
     },
     "execution_count": 8,
     "metadata": {},
     "output_type": "execute_result"
    },
    {
     "data": {
      "text/plain": [
       "<class 'netCDF4._netCDF4.Dimension'>: name = 'surface_altitude', size = 3113"
      ]
     },
     "execution_count": 8,
     "metadata": {},
     "output_type": "execute_result"
    },
    {
     "data": {
      "text/plain": [
       "<class 'netCDF4._netCDF4.Dimension'>: name = 'time', size = 3113"
      ]
     },
     "execution_count": 8,
     "metadata": {},
     "output_type": "execute_result"
    },
    {
     "data": {
      "text/plain": [
       "<class 'netCDF4._netCDF4.Dimension'>: name = 'uncorrected_SIF_757nm', size = 3113"
      ]
     },
     "execution_count": 8,
     "metadata": {},
     "output_type": "execute_result"
    },
    {
     "data": {
      "text/plain": [
       "<class 'netCDF4._netCDF4.Dimension'>: name = 'uncorrected_SIF_757nm_relative', size = 3113"
      ]
     },
     "execution_count": 8,
     "metadata": {},
     "output_type": "execute_result"
    },
    {
     "data": {
      "text/plain": [
       "<class 'netCDF4._netCDF4.Dimension'>: name = 'uncorrected_SIF_771nm', size = 3113"
      ]
     },
     "execution_count": 8,
     "metadata": {},
     "output_type": "execute_result"
    },
    {
     "data": {
      "text/plain": [
       "<class 'netCDF4._netCDF4.Dimension'>: name = 'uncorrected_SIF_771nm_relative', size = 3113"
      ]
     },
     "execution_count": 8,
     "metadata": {},
     "output_type": "execute_result"
    },
    {
     "data": {
      "text/plain": [
       "<class 'netCDF4._netCDF4.Dimension'>: name = 'PAR', size = 3113"
      ]
     },
     "execution_count": 8,
     "metadata": {},
     "output_type": "execute_result"
    },
    {
     "name": "stderr",
     "output_type": "stream",
     "text": [
      "/home/kaushal/anaconda3/lib/python3.7/site-packages/ipykernel_launcher.py:57: UserWarning: endian-ness of dtype and endian kwarg do not match, using endian kwarg\n"
     ]
    },
    {
     "data": {
      "text/plain": [
       "<class 'netCDF4._netCDF4.Dimension'>: name = 'Nadir_Reflectance_Band1', size = 3113"
      ]
     },
     "execution_count": 8,
     "metadata": {},
     "output_type": "execute_result"
    },
    {
     "name": "stderr",
     "output_type": "stream",
     "text": [
      "/home/kaushal/anaconda3/lib/python3.7/site-packages/ipykernel_launcher.py:65: UserWarning: endian-ness of dtype and endian kwarg do not match, using endian kwarg\n"
     ]
    },
    {
     "data": {
      "text/plain": [
       "<class 'netCDF4._netCDF4.Dimension'>: name = 'Nadir_Reflectance_Band2', size = 3113"
      ]
     },
     "execution_count": 8,
     "metadata": {},
     "output_type": "execute_result"
    },
    {
     "data": {
      "text/plain": [
       "<class 'netCDF4._netCDF4.Dimension'>: name = 'Fpar_500m', size = 3113"
      ]
     },
     "execution_count": 8,
     "metadata": {},
     "output_type": "execute_result"
    },
    {
     "data": {
      "text/plain": [
       "<class 'netCDF4._netCDF4.Dimension'>: name = 'Lai_500m', size = 3113"
      ]
     },
     "execution_count": 8,
     "metadata": {},
     "output_type": "execute_result"
    }
   ],
   "source": [
    "from netCDF4 import Dataset\n",
    "import numpy as np\n",
    "import pandas as pd\n",
    "import glob\n",
    "\n",
    "sif_list  = sorted(glob.glob('Processed_sif/*.csv' ))\n",
    "par_list  = sorted(glob.glob('Processed_par/*.csv' ))\n",
    "ref_list  = sorted(glob.glob('Processed_ref/*.csv' ))\n",
    "fpar_list = sorted(glob.glob('Processed_fpar/*.csv'))\n",
    "\n",
    "for i_sif, i_par, i_ref, i_fpar in zip(sif_list, par_list, ref_list, fpar_list):\n",
    "\n",
    "    di  = pd.read_csv(i_sif)\n",
    "    dj  = pd.read_csv(i_par)\n",
    "    dk  = pd.read_csv(i_ref)\n",
    "    dl  = pd.read_csv(i_fpar)\n",
    "    dM1 = di .merge(dj, on=['sounding_id','latitude','longitude'], how='inner')\n",
    "    dM2 = dM1.merge(dk, on=['sounding_id','latitude','longitude'], how='inner')\n",
    "    dM3 = dM2.merge(dl, on=['sounding_id','latitude','longitude'], how='inner')\n",
    "    dM3 = dM3.dropna(subset=['par','nrb1','nrb2','Fpar_500m','Lai_500m'])\n",
    "    L   = len(dM3)\n",
    "    print('Dimensions:',L)\n",
    "    dM3 = dM3.rename({'par':'PAR', 'nrb1':'Nadir_Reflectance_Band1', 'nrb2':'Nadir_Reflectance_Band2'}, axis=1)\n",
    "\n",
    "    with Dataset('OCO2_sif/oco2_LtSIF_180501_B8100r_180703004855s.nc4','r') as src_sif,\\\n",
    "    Dataset(\"Data%s.nc4\"%i_sif[21:-4], \"w\")                                 as output ,\\\n",
    "    Dataset('MCD18A2/121/MCD18A2.A2018121.h01v08.006.2019091180956.hdf')    as src_par,\\\n",
    "    Dataset('MCD43A4/121/MCD43A4.A2018121.h00v08.006.2018130031808.hdf')    as src_ref,\\\n",
    "    Dataset('MCD15A3H/MCD15A3H.A2018121.h00v08.006.2018129231051.hdf'  )    as src_fpar:\n",
    "        \n",
    "        group_sif     = output.createGroup(\"Group_OCO2\"       )\n",
    "        group_par     = output.createGroup(\"Group_MCD18A2\"    )\n",
    "        group_ref     = output.createGroup(\"Group_MCD43A4\"    )\n",
    "        group_fpar    = output.createGroup(\"Group_MCD15A3H\"   )\n",
    "        \n",
    "        output.setncatts(src_sif.__dict__)\n",
    "        output.setncatts(src_par.__dict__)\n",
    "        output.setncatts(src_ref.__dict__)\n",
    "        output.setncatts(src_fpar.__dict__)\n",
    "        \n",
    "        for dfname in dM3.columns:\n",
    "            \n",
    "            for name, variable in src_sif.variables.items():\n",
    "                if name == dfname:\n",
    "                    outvar         = '/Group_OCO2/%s' %name\n",
    "                    output.createDimension(name, L)\n",
    "                    x                  = output.createVariable(outvar, variable.datatype, (name,))\n",
    "                    output[outvar].setncatts(src_sif[name].__dict__)\n",
    "                    output[outvar][:]  = np.array(dM3[name])\n",
    "\n",
    "            for name, variable in src_par.variables.items():\n",
    "                if name == dfname:\n",
    "                    outvar         = '/Group_MCD18A2/%s' %name\n",
    "                    output.createDimension(name, L)\n",
    "                    x                  = output.createVariable(outvar, variable.datatype, (name,))\n",
    "                    output[outvar].setncatts(src_par[name].__dict__)\n",
    "                    output[outvar][:]  = np.array(dM3[name])\n",
    "                    \n",
    "            for name, variable in src_ref.variables.items():\n",
    "                if name == dfname:\n",
    "                    outvar         = '/Group_MCD43A4/%s' %name\n",
    "                    output.createDimension(name, L)\n",
    "                    x                  = output.createVariable(outvar, variable.datatype, (name,))\n",
    "                    output[outvar].setncatts(src_ref[name].__dict__)\n",
    "                    output[outvar][:]  = np.array(dM3[name])\n",
    "\n",
    "            for name, variable in src_fpar.variables.items():\n",
    "                if name == dfname:\n",
    "                    outvar         = '/Group_MCD15A3H/%s' %name\n",
    "                    output.createDimension(name, L)\n",
    "                    x                  = output.createVariable(outvar, variable.datatype, (name,))\n",
    "                    output[outvar].setncatts(src_fpar[name].__dict__)\n",
    "                    output[outvar][:]  = np.array(dM3[name])\n",
    "\n",
    "\n",
    "    break"
   ]
  },
  {
   "cell_type": "code",
   "execution_count": null,
   "metadata": {},
   "outputs": [],
   "source": [
    "with Dataset('OCO2_sif/oco2_LtSIF_180501_B8100r_180703004855s.nc4','r') as src, Dataset(\"out.nc4\", \"w\") as dst:\n",
    "    dst.setncatts(src.__dict__)\n",
    "    # copy dimensions\n",
    "    #for name, dimension in src.dimensions.items():\n",
    "    #    dst.createDimension(\n",
    "    #        name, (len(dimension) if not dimension.isunlimited() else None))\n",
    "    # copy all file data except for the excluded\n",
    "    for name, variable in src.variables.items():\n",
    "        #if name not in toexclude:\n",
    "        dst.createDimension(name, 100)\n",
    "        x            = dst.createVariable('/Group_OCO2/%s' %name, variable.datatype, 100)\n",
    "        dst[name][:] = \n",
    "            # copy variable attributes all at once vi"
   ]
  }
 ],
 "metadata": {
  "kernelspec": {
   "display_name": "Python 3",
   "language": "python",
   "name": "python3"
  },
  "language_info": {
   "codemirror_mode": {
    "name": "ipython",
    "version": 3
   },
   "file_extension": ".py",
   "mimetype": "text/x-python",
   "name": "python",
   "nbconvert_exporter": "python",
   "pygments_lexer": "ipython3",
   "version": "3.7.3"
  }
 },
 "nbformat": 4,
 "nbformat_minor": 2
}
