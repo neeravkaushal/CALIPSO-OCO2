{
 "cells": [
  {
   "cell_type": "code",
   "execution_count": 204,
   "metadata": {},
   "outputs": [],
   "source": [
    "import numpy as np\n",
    "from netCDF4 import Dataset\n",
    "from ast import literal_eval\n",
    "from pyproj import Proj, transform \n",
    "import xarray as xr\n",
    "import xesmf as xe\n",
    "\n",
    "in_proj  = Proj('+proj=sinu +R=6371007.181 +nadgrids=@null +wktext') #------ Specify input projection\n",
    "out_proj = Proj(init='epsg:4326')\n",
    "\n",
    "def extract_pixel_coordinates(ULx,Uly,LRx,LRy,shape):\n",
    "    x        = np.linspace(ULx, LRx, shape[0], endpoint=False) + abs((ULx-LRx)/(2*shape[0]))\n",
    "    y        = np.linspace(ULy, LRy, shape[0], endpoint=False) - abs((ULy-LRy)/(2*shape[0]))\n",
    "    xx, yy   = np.meshgrid(x,y)\n",
    "    plon, plat = transform(in_proj, out_proj, xx, yy)\n",
    "    mlon, mlat = plon[0], np.array([i[0] for i in plat])\n",
    "    plon       = plon.flatten()\n",
    "    plat       = plat.flatten()\n",
    "    return plon, plat, mlon, mlat\n",
    "\n",
    "ref = Dataset('MCD43A4/121/MCD43A4.A2018121.h11v04.006.2018130034701.hdf', mode='r')"
   ]
  },
  {
   "cell_type": "code",
   "execution_count": 205,
   "metadata": {},
   "outputs": [],
   "source": [
    "shape2 = (2400,2400)\n",
    "nrb1              = ref.variables['Nadir_Reflectance_Band1'][:].flatten()\n",
    "nrb2              = ref.variables['Nadir_Reflectance_Band2'][:].flatten()\n",
    "struct            = getattr(ref, 'StructMetadata.0')\n",
    "struct1           = struct[struct.find('UpperLeftPointMtrs'): struct.find('LowerRightMtrs')][19:-3]\n",
    "struct2           = struct[struct.find('LowerRightMtrs')    : struct.find('Projection')    ][15:-3]\n",
    "ULx, ULy          = literal_eval(struct1)\n",
    "LRx, LRy          = literal_eval(struct2)"
   ]
  },
  {
   "cell_type": "code",
   "execution_count": 206,
   "metadata": {},
   "outputs": [],
   "source": [
    "ref_lon,ref_lat, ref_mlon, ref_mlat  = extract_pixel_coordinates(ULx,ULy,LRx,LRy,shape2)"
   ]
  },
  {
   "cell_type": "code",
   "execution_count": 207,
   "metadata": {},
   "outputs": [],
   "source": [
    "grid_in  = {'lon': ref_mlon                , 'lat': ref_mlat                }\n",
    "grid_out = {'lon': np.linspace(ref_mlon[0], ref_mlon[-1], 1200, endpoint=True), 'lat': np.linspace(ref_mlat[0], ref_mlat[-1], 1200, endpoint=True)}"
   ]
  },
  {
   "cell_type": "code",
   "execution_count": 181,
   "metadata": {},
   "outputs": [
    {
     "data": {
      "text/plain": [
       "<matplotlib.collections.PathCollection at 0x7f04dfea4be0>"
      ]
     },
     "execution_count": 181,
     "metadata": {},
     "output_type": "execute_result"
    }
   ],
   "source": [
    "plt.scatter(ref_lon1, g)"
   ]
  },
  {
   "cell_type": "code",
   "execution_count": 78,
   "metadata": {},
   "outputs": [
    {
     "data": {
      "text/plain": [
       "(5747630,)"
      ]
     },
     "execution_count": 78,
     "metadata": {},
     "output_type": "execute_result"
    },
    {
     "data": {
      "text/plain": [
       "(5747630,)"
      ]
     },
     "execution_count": 78,
     "metadata": {},
     "output_type": "execute_result"
    },
    {
     "data": {
      "text/plain": [
       "(5747630,)"
      ]
     },
     "execution_count": 78,
     "metadata": {},
     "output_type": "execute_result"
    },
    {
     "data": {
      "text/plain": [
       "(5747630,)"
      ]
     },
     "execution_count": 78,
     "metadata": {},
     "output_type": "execute_result"
    }
   ],
   "source": [
    "ref_latx = ref_lat[(nrb1.mask==False) & (nrb2.mask==False)]\n",
    "ref_lonx = ref_lon[(nrb1.mask==False) & (nrb2.mask==False)]\n",
    "nrb1x    = nrb1   [(nrb1.mask==False) & (nrb2.mask==False)]\n",
    "nrb2x    = nrb2   [(nrb1.mask==False) & (nrb2.mask==False)]\n",
    "ref_latx.shape\n",
    "ref_lonx.shape\n",
    "nrb1x.shape\n",
    "nrb2x.shape"
   ]
  },
  {
   "cell_type": "code",
   "execution_count": null,
   "metadata": {},
   "outputs": [],
   "source": [
    "calipso_dfs[calipso_dfs.Xindex==-999.0] = np.nan #------- Replace missing values with nan\n",
    "calipso_dfs.dropna(inplace=True) "
   ]
  },
  {
   "cell_type": "code",
   "execution_count": null,
   "metadata": {},
   "outputs": [],
   "source": []
  },
  {
   "cell_type": "code",
   "execution_count": null,
   "metadata": {},
   "outputs": [],
   "source": []
  },
  {
   "cell_type": "code",
   "execution_count": 199,
   "metadata": {},
   "outputs": [],
   "source": [
    "x = np.linspace(1,11,10)\n",
    "y = np.linspace(11,21,10)\n",
    "xx, yy = np.meshgrid(x,y)\n",
    "#xx\n",
    "#yy\n",
    "plon, plat = transform(in_proj, out_proj, xx, yy)\n",
    "#plon\n",
    "#plat"
   ]
  },
  {
   "cell_type": "code",
   "execution_count": 200,
   "metadata": {},
   "outputs": [],
   "source": [
    "mlon = plon[0]\n",
    "mlat = np.array([i[0] for i in plat])\n",
    "alpha,beta = np.meshgrid(mlon,mlat)\n",
    "#alpha\n",
    "#plon"
   ]
  },
  {
   "cell_type": "code",
   "execution_count": 201,
   "metadata": {},
   "outputs": [
    {
     "data": {
      "text/plain": [
       "(array([[8.99320592e-06, 3.14762207e-05, 5.39592355e-05, 7.64422503e-05,\n",
       "         9.89252651e-05],\n",
       "        [8.99320592e-06, 3.14762207e-05, 5.39592355e-05, 7.64422503e-05,\n",
       "         9.89252651e-05],\n",
       "        [8.99320592e-06, 3.14762207e-05, 5.39592355e-05, 7.64422503e-05,\n",
       "         9.89252651e-05],\n",
       "        [8.99320592e-06, 3.14762207e-05, 5.39592355e-05, 7.64422503e-05,\n",
       "         9.89252651e-05],\n",
       "        [8.99320592e-06, 3.14762207e-05, 5.39592355e-05, 7.64422503e-05,\n",
       "         9.89252651e-05]]),\n",
       " array([[9.89252651e-05, 9.89252651e-05, 9.89252651e-05, 9.89252651e-05,\n",
       "         9.89252651e-05],\n",
       "        [1.21408280e-04, 1.21408280e-04, 1.21408280e-04, 1.21408280e-04,\n",
       "         1.21408280e-04],\n",
       "        [1.43891295e-04, 1.43891295e-04, 1.43891295e-04, 1.43891295e-04,\n",
       "         1.43891295e-04],\n",
       "        [1.66374310e-04, 1.66374310e-04, 1.66374310e-04, 1.66374310e-04,\n",
       "         1.66374310e-04],\n",
       "        [1.88857324e-04, 1.88857324e-04, 1.88857324e-04, 1.88857324e-04,\n",
       "         1.88857324e-04]]))"
      ]
     },
     "execution_count": 201,
     "metadata": {},
     "output_type": "execute_result"
    }
   ],
   "source": [
    "cv = np.linspace(mlon[0], mlon[-1], 5, endpoint=True)\n",
    "cw = np.linspace(mlat[0], mlat[-1], 5, endpoint=True)\n",
    "gamma, delta = np.meshgrid(cv,cw)\n",
    "gamma, delta"
   ]
  },
  {
   "cell_type": "code",
   "execution_count": 202,
   "metadata": {},
   "outputs": [
    {
     "data": {
      "text/plain": [
       "<matplotlib.collections.PathCollection at 0x7f050ffc96d8>"
      ]
     },
     "execution_count": 202,
     "metadata": {},
     "output_type": "execute_result"
    },
    {
     "data": {
      "text/plain": [
       "<matplotlib.collections.PathCollection at 0x7f050ffa1240>"
      ]
     },
     "execution_count": 202,
     "metadata": {},
     "output_type": "execute_result"
    }
   ],
   "source": [
    "plt.scatter(plon, plat, c='r')\n",
    "plt.scatter(gamma, delta, c='b')"
   ]
  },
  {
   "cell_type": "code",
   "execution_count": 153,
   "metadata": {},
   "outputs": [
    {
     "name": "stdout",
     "output_type": "stream",
     "text": [
      "Using matplotlib backend: Qt5Agg\n"
     ]
    },
    {
     "data": {
      "text/plain": [
       "<matplotlib.collections.PathCollection at 0x7f04e0292b00>"
      ]
     },
     "execution_count": 153,
     "metadata": {},
     "output_type": "execute_result"
    }
   ],
   "source": [
    "%matplotlib\n",
    "import matplotlib.pyplot as plt\n",
    "plt.scatter(plon,plat)"
   ]
  },
  {
   "cell_type": "code",
   "execution_count": 154,
   "metadata": {},
   "outputs": [
    {
     "data": {
      "text/plain": [
       "<matplotlib.collections.PathCollection at 0x7f04e005af28>"
      ]
     },
     "execution_count": 154,
     "metadata": {},
     "output_type": "execute_result"
    }
   ],
   "source": [
    "plt.scatter(alpha,beta)"
   ]
  },
  {
   "cell_type": "code",
   "execution_count": null,
   "metadata": {},
   "outputs": [],
   "source": []
  },
  {
   "cell_type": "code",
   "execution_count": 94,
   "metadata": {},
   "outputs": [],
   "source": [
    "c = [(i,j) for i, j in zip(xx.flatten(),yy.flatten())]"
   ]
  },
  {
   "cell_type": "code",
   "execution_count": 119,
   "metadata": {},
   "outputs": [
    {
     "data": {
      "text/plain": [
       "(array([1.99674465e-05, 3.32790775e-05, 4.65907084e-05, 5.99023394e-05,\n",
       "        7.32139704e-05, 8.65256014e-05, 9.98372324e-05, 1.13148863e-04,\n",
       "        1.26460494e-04, 1.39772125e-04, 1.82967987e-05, 3.04946644e-05,\n",
       "        4.26925302e-05, 5.48903960e-05, 6.70882618e-05, 7.92861276e-05,\n",
       "        9.14839933e-05, 1.03681859e-04, 1.15879725e-04, 1.28077591e-04,\n",
       "        1.70035427e-05, 2.83392379e-05, 3.96749330e-05, 5.10106282e-05,\n",
       "        6.23463233e-05, 7.36820184e-05, 8.50177136e-05, 9.63534087e-05,\n",
       "        1.07689104e-04, 1.19024799e-04, 1.59947304e-05, 2.66578840e-05,\n",
       "        3.73210376e-05, 4.79841912e-05, 5.86473448e-05, 6.93104984e-05,\n",
       "        7.99736520e-05, 9.06368056e-05, 1.01299959e-04, 1.11963113e-04,\n",
       "        1.52081787e-05, 2.53469646e-05, 3.54857504e-05, 4.56245362e-05,\n",
       "        5.57633221e-05, 6.59021079e-05, 7.60408937e-05, 8.61796796e-05,\n",
       "        9.63184654e-05, 1.06457251e-04, 1.46012749e-05, 2.43354581e-05,\n",
       "        3.40696414e-05, 4.38038247e-05, 5.35380079e-05, 6.32721912e-05,\n",
       "        7.30063744e-05, 8.27405577e-05, 9.24747409e-05, 1.02208924e-04,\n",
       "        1.41444671e-05, 2.35741118e-05, 3.30037565e-05, 4.24334012e-05,\n",
       "        5.18630459e-05, 6.12926906e-05, 7.07223353e-05, 8.01519800e-05,\n",
       "        8.95816247e-05, 9.90112694e-05, 1.38173425e-05, 2.30289041e-05,\n",
       "        3.22404658e-05, 4.14520274e-05, 5.06635890e-05, 5.98751507e-05,\n",
       "        6.90867123e-05, 7.82982740e-05, 8.75098356e-05, 9.67213973e-05,\n",
       "        1.36062169e-05, 2.26770282e-05, 3.17478395e-05, 4.08186508e-05,\n",
       "        4.98894621e-05, 5.89602734e-05, 6.80310847e-05, 7.71018959e-05,\n",
       "        8.61727072e-05, 9.52435185e-05, 1.35026623e-05, 2.25044371e-05,\n",
       "        3.15062120e-05, 4.05079868e-05, 4.95097617e-05, 5.85115365e-05,\n",
       "        6.75133114e-05, 7.65150862e-05, 8.55168610e-05, 9.45186359e-05]),\n",
       " array([47.50000944, 47.50000944, 47.50000944, 47.50000944, 47.50000944,\n",
       "        47.50000944, 47.50000944, 47.50000944, 47.50000944, 47.50000944,\n",
       "        42.50002832, 42.50002832, 42.50002832, 42.50002832, 42.50002832,\n",
       "        42.50002832, 42.50002832, 42.50002832, 42.50002832, 42.50002832,\n",
       "        37.50004721, 37.50004721, 37.50004721, 37.50004721, 37.50004721,\n",
       "        37.50004721, 37.50004721, 37.50004721, 37.50004721, 37.50004721,\n",
       "        32.5000661 , 32.5000661 , 32.5000661 , 32.5000661 , 32.5000661 ,\n",
       "        32.5000661 , 32.5000661 , 32.5000661 , 32.5000661 , 32.5000661 ,\n",
       "        27.50008498, 27.50008498, 27.50008498, 27.50008498, 27.50008498,\n",
       "        27.50008498, 27.50008498, 27.50008498, 27.50008498, 27.50008498,\n",
       "        22.50010387, 22.50010387, 22.50010387, 22.50010387, 22.50010387,\n",
       "        22.50010387, 22.50010387, 22.50010387, 22.50010387, 22.50010387,\n",
       "        17.50012276, 17.50012276, 17.50012276, 17.50012276, 17.50012276,\n",
       "        17.50012276, 17.50012276, 17.50012276, 17.50012276, 17.50012276,\n",
       "        12.50014164, 12.50014164, 12.50014164, 12.50014164, 12.50014164,\n",
       "        12.50014164, 12.50014164, 12.50014164, 12.50014164, 12.50014164,\n",
       "         7.50016053,  7.50016053,  7.50016053,  7.50016053,  7.50016053,\n",
       "         7.50016053,  7.50016053,  7.50016053,  7.50016053,  7.50016053,\n",
       "         2.50017941,  2.50017941,  2.50017941,  2.50017941,  2.50017941,\n",
       "         2.50017941,  2.50017941,  2.50017941,  2.50017941,  2.50017941]))"
      ]
     },
     "execution_count": 119,
     "metadata": {},
     "output_type": "execute_result"
    }
   ],
   "source": [
    "extract_pixel_coordinates(1,11,11,21,(10,10))"
   ]
  },
  {
   "cell_type": "code",
   "execution_count": 106,
   "metadata": {},
   "outputs": [
    {
     "data": {
      "text/plain": [
       "array([[ 1.,  2.,  3.,  4.,  5.,  6.,  7.,  8.,  9., 10.],\n",
       "       [ 1.,  2.,  3.,  4.,  5.,  6.,  7.,  8.,  9., 10.],\n",
       "       [ 1.,  2.,  3.,  4.,  5.,  6.,  7.,  8.,  9., 10.],\n",
       "       [ 1.,  2.,  3.,  4.,  5.,  6.,  7.,  8.,  9., 10.],\n",
       "       [ 1.,  2.,  3.,  4.,  5.,  6.,  7.,  8.,  9., 10.],\n",
       "       [ 1.,  2.,  3.,  4.,  5.,  6.,  7.,  8.,  9., 10.],\n",
       "       [ 1.,  2.,  3.,  4.,  5.,  6.,  7.,  8.,  9., 10.],\n",
       "       [ 1.,  2.,  3.,  4.,  5.,  6.,  7.,  8.,  9., 10.],\n",
       "       [ 1.,  2.,  3.,  4.,  5.,  6.,  7.,  8.,  9., 10.],\n",
       "       [ 1.,  2.,  3.,  4.,  5.,  6.,  7.,  8.,  9., 10.]])"
      ]
     },
     "execution_count": 106,
     "metadata": {},
     "output_type": "execute_result"
    },
    {
     "data": {
      "text/plain": [
       "array([[11., 11., 11., 11., 11., 11., 11., 11., 11., 11.],\n",
       "       [12., 12., 12., 12., 12., 12., 12., 12., 12., 12.],\n",
       "       [13., 13., 13., 13., 13., 13., 13., 13., 13., 13.],\n",
       "       [14., 14., 14., 14., 14., 14., 14., 14., 14., 14.],\n",
       "       [15., 15., 15., 15., 15., 15., 15., 15., 15., 15.],\n",
       "       [16., 16., 16., 16., 16., 16., 16., 16., 16., 16.],\n",
       "       [17., 17., 17., 17., 17., 17., 17., 17., 17., 17.],\n",
       "       [18., 18., 18., 18., 18., 18., 18., 18., 18., 18.],\n",
       "       [19., 19., 19., 19., 19., 19., 19., 19., 19., 19.],\n",
       "       [20., 20., 20., 20., 20., 20., 20., 20., 20., 20.]])"
      ]
     },
     "execution_count": 106,
     "metadata": {},
     "output_type": "execute_result"
    }
   ],
   "source": [
    "x        = np.linspace(1 , 10, 10, endpoint=True)# + abs((ULx-LRx)/(2*shape[0]))\n",
    "y        = np.linspace(11, 20, 10, endpoint=True)# - abs((ULy-LRy)/(2*shape[0]))\n",
    "xx, yy   = np.meshgrid(x,y)\n",
    "#xs       = xx.flatten()\n",
    "#ys       = yy.flatten()\n",
    "xx\n",
    "yy"
   ]
  },
  {
   "cell_type": "code",
   "execution_count": 109,
   "metadata": {},
   "outputs": [],
   "source": [
    "plon, plat = transform(in_proj, out_proj, xx, yy)"
   ]
  },
  {
   "cell_type": "code",
   "execution_count": 110,
   "metadata": {},
   "outputs": [
    {
     "data": {
      "text/plain": [
       "array([[8.99320592e-06, 1.79864118e-05, 2.69796178e-05, 3.59728237e-05,\n",
       "        4.49660296e-05, 5.39592355e-05, 6.29524415e-05, 7.19456474e-05,\n",
       "        8.09388533e-05, 8.99320592e-05],\n",
       "       [8.99320592e-06, 1.79864118e-05, 2.69796178e-05, 3.59728237e-05,\n",
       "        4.49660296e-05, 5.39592355e-05, 6.29524415e-05, 7.19456474e-05,\n",
       "        8.09388533e-05, 8.99320592e-05],\n",
       "       [8.99320592e-06, 1.79864118e-05, 2.69796178e-05, 3.59728237e-05,\n",
       "        4.49660296e-05, 5.39592355e-05, 6.29524415e-05, 7.19456474e-05,\n",
       "        8.09388533e-05, 8.99320592e-05],\n",
       "       [8.99320592e-06, 1.79864118e-05, 2.69796178e-05, 3.59728237e-05,\n",
       "        4.49660296e-05, 5.39592355e-05, 6.29524415e-05, 7.19456474e-05,\n",
       "        8.09388533e-05, 8.99320592e-05],\n",
       "       [8.99320592e-06, 1.79864118e-05, 2.69796178e-05, 3.59728237e-05,\n",
       "        4.49660296e-05, 5.39592355e-05, 6.29524415e-05, 7.19456474e-05,\n",
       "        8.09388533e-05, 8.99320592e-05],\n",
       "       [8.99320592e-06, 1.79864118e-05, 2.69796178e-05, 3.59728237e-05,\n",
       "        4.49660296e-05, 5.39592355e-05, 6.29524415e-05, 7.19456474e-05,\n",
       "        8.09388533e-05, 8.99320592e-05],\n",
       "       [8.99320592e-06, 1.79864118e-05, 2.69796178e-05, 3.59728237e-05,\n",
       "        4.49660296e-05, 5.39592355e-05, 6.29524415e-05, 7.19456474e-05,\n",
       "        8.09388533e-05, 8.99320592e-05],\n",
       "       [8.99320592e-06, 1.79864118e-05, 2.69796178e-05, 3.59728237e-05,\n",
       "        4.49660296e-05, 5.39592355e-05, 6.29524415e-05, 7.19456474e-05,\n",
       "        8.09388533e-05, 8.99320592e-05],\n",
       "       [8.99320592e-06, 1.79864118e-05, 2.69796178e-05, 3.59728237e-05,\n",
       "        4.49660296e-05, 5.39592355e-05, 6.29524415e-05, 7.19456474e-05,\n",
       "        8.09388533e-05, 8.99320592e-05],\n",
       "       [8.99320592e-06, 1.79864118e-05, 2.69796178e-05, 3.59728237e-05,\n",
       "        4.49660296e-05, 5.39592355e-05, 6.29524415e-05, 7.19456474e-05,\n",
       "        8.09388533e-05, 8.99320592e-05]])"
      ]
     },
     "execution_count": 110,
     "metadata": {},
     "output_type": "execute_result"
    }
   ],
   "source": [
    "plon"
   ]
  },
  {
   "cell_type": "code",
   "execution_count": 111,
   "metadata": {},
   "outputs": [
    {
     "data": {
      "text/plain": [
       "array([[9.89252651e-05, 9.89252651e-05, 9.89252651e-05, 9.89252651e-05,\n",
       "        9.89252651e-05, 9.89252651e-05, 9.89252651e-05, 9.89252651e-05,\n",
       "        9.89252651e-05, 9.89252651e-05],\n",
       "       [1.07918471e-04, 1.07918471e-04, 1.07918471e-04, 1.07918471e-04,\n",
       "        1.07918471e-04, 1.07918471e-04, 1.07918471e-04, 1.07918471e-04,\n",
       "        1.07918471e-04, 1.07918471e-04],\n",
       "       [1.16911677e-04, 1.16911677e-04, 1.16911677e-04, 1.16911677e-04,\n",
       "        1.16911677e-04, 1.16911677e-04, 1.16911677e-04, 1.16911677e-04,\n",
       "        1.16911677e-04, 1.16911677e-04],\n",
       "       [1.25904883e-04, 1.25904883e-04, 1.25904883e-04, 1.25904883e-04,\n",
       "        1.25904883e-04, 1.25904883e-04, 1.25904883e-04, 1.25904883e-04,\n",
       "        1.25904883e-04, 1.25904883e-04],\n",
       "       [1.34898089e-04, 1.34898089e-04, 1.34898089e-04, 1.34898089e-04,\n",
       "        1.34898089e-04, 1.34898089e-04, 1.34898089e-04, 1.34898089e-04,\n",
       "        1.34898089e-04, 1.34898089e-04],\n",
       "       [1.43891295e-04, 1.43891295e-04, 1.43891295e-04, 1.43891295e-04,\n",
       "        1.43891295e-04, 1.43891295e-04, 1.43891295e-04, 1.43891295e-04,\n",
       "        1.43891295e-04, 1.43891295e-04],\n",
       "       [1.52884501e-04, 1.52884501e-04, 1.52884501e-04, 1.52884501e-04,\n",
       "        1.52884501e-04, 1.52884501e-04, 1.52884501e-04, 1.52884501e-04,\n",
       "        1.52884501e-04, 1.52884501e-04],\n",
       "       [1.61877707e-04, 1.61877707e-04, 1.61877707e-04, 1.61877707e-04,\n",
       "        1.61877707e-04, 1.61877707e-04, 1.61877707e-04, 1.61877707e-04,\n",
       "        1.61877707e-04, 1.61877707e-04],\n",
       "       [1.70870913e-04, 1.70870913e-04, 1.70870913e-04, 1.70870913e-04,\n",
       "        1.70870913e-04, 1.70870913e-04, 1.70870913e-04, 1.70870913e-04,\n",
       "        1.70870913e-04, 1.70870913e-04],\n",
       "       [1.79864118e-04, 1.79864118e-04, 1.79864118e-04, 1.79864118e-04,\n",
       "        1.79864118e-04, 1.79864118e-04, 1.79864118e-04, 1.79864118e-04,\n",
       "        1.79864118e-04, 1.79864118e-04]])"
      ]
     },
     "execution_count": 111,
     "metadata": {},
     "output_type": "execute_result"
    }
   ],
   "source": [
    "plat"
   ]
  },
  {
   "cell_type": "code",
   "execution_count": null,
   "metadata": {},
   "outputs": [],
   "source": []
  }
 ],
 "metadata": {
  "kernelspec": {
   "display_name": "Python 3",
   "language": "python",
   "name": "python3"
  },
  "language_info": {
   "codemirror_mode": {
    "name": "ipython",
    "version": 3
   },
   "file_extension": ".py",
   "mimetype": "text/x-python",
   "name": "python",
   "nbconvert_exporter": "python",
   "pygments_lexer": "ipython3",
   "version": "3.7.3"
  }
 },
 "nbformat": 4,
 "nbformat_minor": 2
}
